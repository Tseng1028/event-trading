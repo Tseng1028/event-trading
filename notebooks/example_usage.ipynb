{
 "cells": [
  {
   "cell_type": "markdown",
   "metadata": {},
   "source": [
    "# Import"
   ]
  },
  {
   "cell_type": "code",
   "execution_count": 3,
   "metadata": {},
   "outputs": [],
   "source": [
    "import pandas as pd\n",
    "import sys\n",
    "import os\n",
    "sys.path.extend(['../', '../../'])\n",
    "\n",
    "from src.backtest import EventBacktester\n",
    "from src.event_analyzer import EventAnalyzer\n",
    "from src.metrics import MetricsCalculator\n",
    "\n"
   ]
  },
  {
   "cell_type": "markdown",
   "metadata": {},
   "source": [
    "# Load data"
   ]
  },
  {
   "cell_type": "code",
   "execution_count": null,
   "metadata": {},
   "outputs": [],
   "source": [
    "# Sample event data\n",
    "events_data = {\n",
    "    \"date\": [\"2023-01-01\", \"2023-01-03\", \"2023-01-05\"],\n",
    "    \"stock_code\": [\"AAPL\", \"GOOGL\", \"AAPL\"],\n",
    "    \"action\": [\"buy\", \"sell\", \"buy\"],\n",
    "    \"amount\": [10, 5, 15]\n",
    "}\n",
    "events_df = pd.DataFrame(events_data)\n",
    "\n",
    "# Sample price data\n",
    "prices_data = {\n",
    "    \"date\": [\"2023-01-01\", \"2023-01-02\", \"2023-01-03\", \"2023-01-04\", \"2023-01-05\"],\n",
    "    \"stock_code\": [\"AAPL\", \"AAPL\", \"GOOGL\", \"GOOGL\", \"AAPL\"],\n",
    "    \"price\": [150, 152, 2800, 2850, 155]\n",
    "}\n",
    "prices_df = pd.DataFrame(prices_data)\n"
   ]
  },
  {
   "cell_type": "markdown",
   "metadata": {},
   "source": [
    "# Initialize the Event Backtester"
   ]
  },
  {
   "cell_type": "markdown",
   "metadata": {},
   "source": [
    "Create an instance of EventBacktester with the event and price data."
   ]
  },
  {
   "cell_type": "code",
   "execution_count": null,
   "metadata": {},
   "outputs": [],
   "source": [
    "backtester = EventBacktester(events_df, prices_df)\n"
   ]
  },
  {
   "cell_type": "markdown",
   "metadata": {},
   "source": [
    "# Run the Backtest"
   ]
  },
  {
   "cell_type": "markdown",
   "metadata": {},
   "source": [
    "Execute the trades based on the events and calculate the metrics."
   ]
  },
  {
   "cell_type": "code",
   "execution_count": null,
   "metadata": {},
   "outputs": [],
   "source": [
    "backtester.run_backtest()\n",
    "results = backtester.calculate_metrics()"
   ]
  },
  {
   "cell_type": "markdown",
   "metadata": {},
   "source": [
    "# Display Results"
   ]
  },
  {
   "cell_type": "markdown",
   "metadata": {},
   "source": [
    "Output the calculated metrics (e.g., cumulative PnL, Sharpe ratio, etc.)."
   ]
  },
  {
   "cell_type": "code",
   "execution_count": null,
   "metadata": {},
   "outputs": [],
   "source": [
    "print(\"Backtest Results:\")\n",
    "for metric, value in results.items():\n",
    "    print(f\"{metric}: {value}\")\n"
   ]
  },
  {
   "cell_type": "markdown",
   "metadata": {},
   "source": [
    "# Analyze Event Impact (Optional)"
   ]
  },
  {
   "cell_type": "markdown",
   "metadata": {},
   "source": [
    "Use the EventAnalyzer to check the returns and volatility before and after an event."
   ]
  },
  {
   "cell_type": "code",
   "execution_count": null,
   "metadata": {},
   "outputs": [],
   "source": [
    "analyzer = EventAnalyzer(prices_df)\n",
    "returns = analyzer.calculate_pre_post_returns(\"AAPL\", \"2023-01-01\", days=3)\n",
    "volatility = analyzer.calculate_volatility(\"AAPL\", \"2023-01-01\", days=3)\n",
    "\n",
    "print(\"\\nEvent Analysis:\")\n",
    "print(\"Pre/Post Event Returns:\", returns)\n",
    "print(\"Pre/Post Event Volatility:\", volatility)\n"
   ]
  },
  {
   "cell_type": "markdown",
   "metadata": {},
   "source": [
    "# Expected Output (Example)"
   ]
  },
  {
   "cell_type": "markdown",
   "metadata": {},
   "source": [
    "### Explanation\n",
    "\n",
    "- **Event Data (`events_df`)**: Each row represents a trade event with a date, stock code, action (buy/sell), and amount.\n",
    "\n",
    "- **Price Data (`prices_df`)**: Contains historical prices for each stock on specific dates.\n",
    "\n",
    "- **Event Backtester**: Executes the trades in `events_df` based on the prices in `prices_df`.\n",
    "\n",
    "- **Metrics Calculation**: Computes key metrics like PnL, Sharpe ratio, CAGR, and MDD for the backtest.\n",
    "\n",
    "- **Event Analysis (Optional)**: Calculates the returns and volatility for a stock before and after a specified event.\n"
   ]
  },
  {
   "cell_type": "markdown",
   "metadata": {},
   "source": [
    "### Backtest Results:\n",
    "- **PnL**: 250.0\n",
    "- **Sharpe Ratio**: 1.5\n",
    "- **CAGR**: 12.0%\n",
    "- **MDD**: -5.0%\n",
    "\n",
    "### Event Analysis:\n",
    "- **Pre/Post Event Returns**: `{'pre_event_return': 1.3, 'post_event_return': 2.1}`\n",
    "- **Pre/Post Event Volatility**: `{'pre_event_volatility': 0.02, 'post_event_volatility': 0.03}`\n"
   ]
  }
 ],
 "metadata": {
  "kernelspec": {
   "display_name": "factors_backtest",
   "language": "python",
   "name": "python3"
  },
  "language_info": {
   "codemirror_mode": {
    "name": "ipython",
    "version": 3
   },
   "file_extension": ".py",
   "mimetype": "text/x-python",
   "name": "python",
   "nbconvert_exporter": "python",
   "pygments_lexer": "ipython3",
   "version": "3.11.5"
  }
 },
 "nbformat": 4,
 "nbformat_minor": 2
}
